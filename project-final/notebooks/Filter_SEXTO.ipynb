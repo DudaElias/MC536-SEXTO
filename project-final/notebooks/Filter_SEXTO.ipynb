{
  "nbformat": 4,
  "nbformat_minor": 0,
  "metadata": {
    "colab": {
      "provenance": [],
      "toc_visible": true
    },
    "kernelspec": {
      "name": "python3",
      "display_name": "Python 3"
    },
    "language_info": {
      "name": "python"
    }
  },
  "cells": [
    {
      "cell_type": "code",
      "source": [
        "!pip install fuzzywuzzy"
      ],
      "metadata": {
        "colab": {
          "base_uri": "https://localhost:8080/"
        },
        "id": "n-lwk_sTVZEr",
        "outputId": "1d5328b4-13a5-47ef-d34b-cf159874ca6c"
      },
      "execution_count": null,
      "outputs": [
        {
          "output_type": "stream",
          "name": "stdout",
          "text": [
            "Collecting fuzzywuzzy\n",
            "  Downloading fuzzywuzzy-0.18.0-py2.py3-none-any.whl (18 kB)\n",
            "Installing collected packages: fuzzywuzzy\n",
            "Successfully installed fuzzywuzzy-0.18.0\n"
          ]
        }
      ]
    },
    {
      "cell_type": "code",
      "source": [
        "from google.colab import drive\n",
        "drive.mount('/content/drive')"
      ],
      "metadata": {
        "colab": {
          "base_uri": "https://localhost:8080/"
        },
        "id": "m4PkifkYoBDC",
        "outputId": "833c3d69-19d0-4e52-98b6-148b4f0ad332"
      },
      "execution_count": null,
      "outputs": [
        {
          "output_type": "stream",
          "name": "stdout",
          "text": [
            "Mounted at /content/drive\n"
          ]
        }
      ]
    },
    {
      "cell_type": "code",
      "execution_count": null,
      "metadata": {
        "id": "u_OGSnxrS-ec",
        "colab": {
          "base_uri": "https://localhost:8080/"
        },
        "outputId": "e39d591e-b716-482e-a37e-458b4e6ca8f4"
      },
      "outputs": [
        {
          "output_type": "stream",
          "name": "stderr",
          "text": [
            "/usr/local/lib/python3.10/dist-packages/fuzzywuzzy/fuzz.py:11: UserWarning: Using slow pure-python SequenceMatcher. Install python-Levenshtein to remove this warning\n",
            "  warnings.warn('Using slow pure-python SequenceMatcher. Install python-Levenshtein to remove this warning')\n"
          ]
        }
      ],
      "source": [
        "from fuzzywuzzy import fuzz\n",
        "from fuzzywuzzy import process\n",
        "import pandas as pd\n",
        "import uuid\n",
        "from google.colab import drive"
      ]
    },
    {
      "cell_type": "code",
      "source": [
        "CULINARYDB_RECIPE_DETAILS = '/content/drive/Shareddrives/Projeto BD - MC536/CulinaryDB/01_Recipe_Details.csv'\n",
        "CULINARYDB_INGREDIENTS = '/content/drive/Shareddrives/Projeto BD - MC536/CulinaryDB/02_Ingredients.csv'\n",
        "CULINARYDB_COMPOUND_INGREDIENTS = '/content/drive/Shareddrives/Projeto BD - MC536/CulinaryDB/03_Compound_Ingredients.csv'\n",
        "CULINARYDB_RECIPE_INGREDIENTS = '/content/drive/Shareddrives/Projeto BD - MC536/CulinaryDB/04_Recipe-Ingredients_Aliases.csv'\n",
        "\n",
        "FOODB_FOOD = '/content/drive/Shareddrives/Projeto BD - MC536/FoodDB/FooDB/Food.csv'\n",
        "FOODB_CONTENT = '/content/drive/Shareddrives/Projeto BD - MC536/FoodDB/FooDB/Content.csv'\n",
        "FOODB_NUTRIENT = '/content/drive/Shareddrives/Projeto BD - MC536/FoodDB/FooDB/Nutrient.csv'\n",
        "FOODB_COMPOUND = '/content/drive/Shareddrives/Projeto BD - MC536/FoodDB/FooDB/Compound.csv'"
      ],
      "metadata": {
        "id": "uppxXQoETLlH"
      },
      "execution_count": null,
      "outputs": []
    },
    {
      "cell_type": "code",
      "source": [
        "culinarydb_recipe_details = pd.read_csv(CULINARYDB_RECIPE_DETAILS)\n",
        "culinarydb_ingredients = pd.read_csv(CULINARYDB_INGREDIENTS)\n",
        "culinarydb_compound_ingredients = pd.read_csv(CULINARYDB_COMPOUND_INGREDIENTS)\n",
        "culinarydb_recipe_ingredients = pd.read_csv(CULINARYDB_RECIPE_INGREDIENTS)\n",
        "\n",
        "foodb_food = pd.read_csv(FOODB_FOOD)\n",
        "foodb_content = pd.read_csv(FOODB_CONTENT)\n",
        "foodb_nutrient = pd.read_csv(FOODB_NUTRIENT)\n",
        "foodb_compound = pd.read_csv(FOODB_COMPOUND)"
      ],
      "metadata": {
        "id": "g4gZ0xO-UZMO",
        "colab": {
          "base_uri": "https://localhost:8080/"
        },
        "outputId": "42453624-69b4-4237-8261-96bb3fa40f6e"
      },
      "execution_count": null,
      "outputs": [
        {
          "output_type": "stream",
          "name": "stderr",
          "text": [
            "<ipython-input-5-70f5d42c0705>:7: DtypeWarning: Columns (4,5,6,7,8,9,13,14,21,22,24) have mixed types. Specify dtype option on import or set low_memory=False.\n",
            "  foodb_content = pd.read_csv(FOODB_CONTENT)\n",
            "<ipython-input-5-70f5d42c0705>:9: DtypeWarning: Columns (3,4,5,6,12,13,14,15) have mixed types. Specify dtype option on import or set low_memory=False.\n",
            "  foodb_compound = pd.read_csv(FOODB_COMPOUND)\n"
          ]
        }
      ]
    },
    {
      "cell_type": "code",
      "source": [
        "culinarydb_aliased_ingredient_name = culinarydb_ingredients['Aliased Ingredient Name'].tolist()\n",
        "foodb_name = foodb_food['name'].tolist()\n",
        "\n",
        "# Create an empty dictionary to store the matches\n",
        "matches = {}\n",
        "\n",
        "# Loop through the culinary ingredients\n",
        "for ingredient in culinarydb_aliased_ingredient_name:\n",
        "    # Use fuzzywuzzy to find the closest match in the foodb ingredients\n",
        "    match, score = process.extractOne(ingredient, foodb_name)\n",
        "\n",
        "    # You might want to set a threshold for the score to make sure the matches are accurate\n",
        "    if score > 70 and abs(len(ingredient) - len(match)) < 3:\n",
        "        matches[ingredient] = match"
      ],
      "metadata": {
        "id": "MvFXCgQcVjaO"
      },
      "execution_count": null,
      "outputs": []
    },
    {
      "cell_type": "markdown",
      "source": [
        "# Criando dataframe de comidas\n"
      ],
      "metadata": {
        "id": "XFCySJAVKoBY"
      }
    },
    {
      "cell_type": "code",
      "source": [
        "rows = []\n",
        "\n",
        "for ingredient_name in matches:\n",
        "    foodb_ingredient_name = matches[ingredient_name]\n",
        "    foodb_ingredient = foodb_food[foodb_food['name'] == foodb_ingredient_name].iloc[0]\n",
        "    culinarydb_ingredient = culinarydb_ingredients[culinarydb_ingredients['Aliased Ingredient Name'] == ingredient_name].iloc[0]\n",
        "\n",
        "    row = {\n",
        "        'id': uuid.uuid1(),\n",
        "        'name': foodb_ingredient_name,\n",
        "        'name_scientific': foodb_ingredient['name_scientific'],\n",
        "        'wikipedia_id': foodb_ingredient['wikipedia_id'],\n",
        "        'food_group': foodb_ingredient['food_group'],\n",
        "        'food_subgroup': foodb_ingredient['food_subgroup'],\n",
        "        'food_type': foodb_ingredient['food_type'],\n",
        "        'culinarydb_ingredient_id': culinarydb_ingredient['Entity ID'],\n",
        "        'foodb_id': foodb_ingredient['id']\n",
        "    }\n",
        "    rows.append(row)\n",
        "\n",
        "sexto_ingredient = pd.DataFrame(rows)"
      ],
      "metadata": {
        "id": "vLTjFBsnzV4H"
      },
      "execution_count": null,
      "outputs": []
    },
    {
      "cell_type": "code",
      "source": [
        "foodb_ids = sexto_ingredient['foodb_id']\n",
        "\n",
        "filtered_foodb_food = foodb_food[foodb_food['id'].isin(foodb_ids)]\n",
        "filtered_foodb_nutrient = foodb_nutrient[foodb_nutrient['id'].isin(foodb_ids)]\n",
        "filtered_foodb_compound = foodb_compound[foodb_compound['id'].isin(foodb_ids)]\n",
        "\n",
        "filtered_foodb_content = foodb_content[foodb_content['food_id'].isin(foodb_ids)].dropna(subset=['orig_content'])\n",
        "\n",
        "filtered_foodb_content_nutrient = filtered_foodb_content.loc[filtered_foodb_content['source_type'] == 'Nutrient']\n",
        "filtered_foodb_content_compound = filtered_foodb_content.loc[filtered_foodb_content['source_type'] == 'Compound']\n",
        "\n",
        "# make sure content compound has compounds that exists\n",
        "mask = filtered_foodb_content_compound['source_id'].isin(filtered_foodb_compound['id'])\n",
        "filtered_foodb_content_compound = filtered_foodb_content_compound[mask]\n",
        "\n",
        "# make sure content nutrient has nutrient that exists\n",
        "mask = filtered_foodb_content_nutrient['source_id'].isin(filtered_foodb_nutrient['id'])\n",
        "filtered_foodb_content_nutrient = filtered_foodb_content_nutrient[mask]"
      ],
      "metadata": {
        "id": "BZYK96_sL1NG"
      },
      "execution_count": null,
      "outputs": []
    },
    {
      "cell_type": "code",
      "source": [
        "culinarydb_ids = sexto_ingredient['culinarydb_ingredient_id']\n",
        "\n",
        "filtered_culinarydb_ingredients = culinarydb_ingredients[culinarydb_ingredients['Entity ID'].isin(culinarydb_ids)]\n",
        "filtered_culinarydb_compound_ingredients = culinarydb_compound_ingredients[culinarydb_compound_ingredients['entity_id'].isin(culinarydb_ids)]\n",
        "filtered_culinarydb_recipe_ingredients = culinarydb_recipe_ingredients[culinarydb_recipe_ingredients['Entity ID'].isin(culinarydb_ids)]\n",
        "\n",
        "culinarydb_recipe_ids = filtered_culinarydb_recipe_ingredients['Recipe ID']\n",
        "\n",
        "filtered_culinarydb_recipe_details = culinarydb_recipe_details[culinarydb_recipe_details['Recipe ID'].isin(culinarydb_recipe_ids)]\n",
        "\n",
        "# rename recipes columns\n",
        "filtered_culinarydb_recipe_ingredients = filtered_culinarydb_recipe_ingredients.rename(columns={\n",
        "    'Recipe ID': 'recipe_id',\n",
        "    'Original Ingredient Name': 'original_ingredient',\n",
        "    'Aliased Ingredient Name': 'aliased_ingredient',\n",
        "    'Entity ID': 'culinarydb_ingredient_id',\n",
        "})\n",
        "\n",
        "filtered_culinarydb_recipe_details = filtered_culinarydb_recipe_details.rename(columns={\n",
        "    'Recipe ID': 'recipe_id',\n",
        "})"
      ],
      "metadata": {
        "id": "kTyjQTLhZwS2"
      },
      "execution_count": null,
      "outputs": []
    },
    {
      "cell_type": "code",
      "source": [
        "filtered_foodb_food.to_csv('/content/drive/Shareddrives/Projeto BD - MC536/filtrado/filtered_foodb_food.csv', index=False)\n",
        "filtered_foodb_nutrient.to_csv('/content/drive/Shareddrives/Projeto BD - MC536/filtrado/filtered_foodb_nutrient.csv', index=False)\n",
        "filtered_foodb_compound.to_csv('/content/drive/Shareddrives/Projeto BD - MC536/filtrado/filtered_foodb_compound.csv', index=False)\n",
        "filtered_foodb_content.to_csv('/content/drive/Shareddrives/Projeto BD - MC536/filtrado/filtered_foodb_content.csv', index=False)\n",
        "filtered_foodb_content_nutrient.to_csv('/content/drive/Shareddrives/Projeto BD - MC536/filtrado/filtered_foodb_content_nutrient.csv', index=False)\n",
        "filtered_foodb_content_compound.to_csv('/content/drive/Shareddrives/Projeto BD - MC536/filtrado/filtered_foodb_content_compound.csv', index=False)\n",
        "\n",
        "filtered_culinarydb_ingredients.to_csv('/content/drive/Shareddrives/Projeto BD - MC536/filtrado/filtered_culinarydb_ingredients.csv', index=False)\n",
        "filtered_culinarydb_compound_ingredients.to_csv('/content/drive/Shareddrives/Projeto BD - MC536/filtrado/filtered_culinarydb_compound_ingredients.csv', index=False)\n",
        "filtered_culinarydb_recipe_ingredients.to_csv('/content/drive/Shareddrives/Projeto BD - MC536/filtrado/filtered_culinarydb_recipe_ingredients.csv', index=False)\n",
        "filtered_culinarydb_recipe_details.to_csv('/content/drive/Shareddrives/Projeto BD - MC536/filtrado/filtered_culinarydb_recipe_details.csv', index=False)\n",
        "\n",
        "sexto_ingredient.to_csv('/content/drive/Shareddrives/Projeto BD - MC536/filtrado/sexto_ingredient.csv', index=False)"
      ],
      "metadata": {
        "id": "VlPy8OtRQhAg"
      },
      "execution_count": null,
      "outputs": []
    },
    {
      "cell_type": "code",
      "source": [
        "def create_row(foodb_content_compound):\n",
        "    ingredient = sexto_ingredient[sexto_ingredient['foodb_id'] == foodb_content_compound['food_id']].iloc[0]\n",
        "    return {\n",
        "        'id': uuid.uuid1(),\n",
        "        'compound_id': foodb_content_compound.source_id,\n",
        "        'food_id': ingredient.id,\n",
        "        'orig_source_id': foodb_content_compound.orig_source_id,\n",
        "        'orig_content': foodb_content_compound.orig_content,\n",
        "        'orig_unit': foodb_content_compound.orig_unit,\n",
        "        'preparation_type': foodb_content_compound.preparation_type,\n",
        "        'standard_content': foodb_content_compound.standard_content\n",
        "    }\n",
        "\n",
        "sexto_content_compound = filtered_foodb_content_compound.apply(create_row, axis=1, result_type='expand')"
      ],
      "metadata": {
        "id": "VlkbBVqOnF6a"
      },
      "execution_count": null,
      "outputs": []
    },
    {
      "cell_type": "code",
      "source": [
        "sexto_content_compound.to_csv('/content/drive/Shareddrives/Projeto BD - MC536/filtrado/sexto_content_compound.csv', index=False)"
      ],
      "metadata": {
        "id": "qUJ_HshHt0sK"
      },
      "execution_count": null,
      "outputs": []
    },
    {
      "cell_type": "code",
      "source": [
        "culinarydb_cuisines = pd.DataFrame(filtered_culinarydb_recipe_details['Cuisine'].drop_duplicates())\n",
        "culinarydb_cuisines.to_csv('/content/drive/Shareddrives/Projeto BD - MC536/filtrado/culinarydb_cuisines.csv', index=False)"
      ],
      "metadata": {
        "id": "d8YUJz4Y4FYz"
      },
      "execution_count": null,
      "outputs": []
    },
    {
      "cell_type": "code",
      "source": [
        "def create_row(foodb_content_nutrient):\n",
        "    ingredient = sexto_ingredient[sexto_ingredient['foodb_id'] == foodb_content_nutrient['food_id']].iloc[0]\n",
        "    return {\n",
        "        'id': uuid.uuid1(),\n",
        "        'nutrient_id': foodb_content_nutrient.source_id,\n",
        "        'food_id': ingredient.id,\n",
        "        'orig_source_id': foodb_content_nutrient.orig_source_id,\n",
        "        'orig_content': foodb_content_nutrient.orig_content,\n",
        "        'orig_unit': foodb_content_nutrient.orig_unit,\n",
        "        'preparation_type': foodb_content_nutrient.preparation_type,\n",
        "        'standard_content': foodb_content_nutrient.standard_content\n",
        "    }\n",
        "\n",
        "sexto_content_nutrient = filtered_foodb_content_nutrient.apply(create_row, axis=1, result_type='expand')"
      ],
      "metadata": {
        "id": "z-Mnb6pU_m9b"
      },
      "execution_count": null,
      "outputs": []
    },
    {
      "cell_type": "code",
      "source": [
        "sexto_content_nutrient.to_csv('/content/drive/Shareddrives/Projeto BD - MC536/filtrado/sexto_content_nutrient.csv', index=False)"
      ],
      "metadata": {
        "id": "jZF0xnFSACAM"
      },
      "execution_count": null,
      "outputs": []
    },
    {
      "cell_type": "code",
      "source": [
        "filtered_foodb_content_nutrient.to_csv('/content/drive/Shareddrives/Projeto BD - MC536/filtrado/filtered_foodb_content_nutrient.csv', index=False)"
      ],
      "metadata": {
        "id": "hVVzRPRsBEI1"
      },
      "execution_count": null,
      "outputs": []
    },
    {
      "cell_type": "code",
      "source": [
        "filtered_culinarydb_recipe_details.iloc[0]"
      ],
      "metadata": {
        "colab": {
          "base_uri": "https://localhost:8080/"
        },
        "id": "ax1pmN0KK4aX",
        "outputId": "f029b822-79aa-4fec-f91b-b9fdde38431f"
      },
      "execution_count": null,
      "outputs": [
        {
          "output_type": "execute_result",
          "data": {
            "text/plain": [
              "recipe_id                               1\n",
              "Title        5 spice vegetable fried rice\n",
              "Source                        TARLA_DALAL\n",
              "Cuisine               Indian Subcontinent\n",
              "Name: 0, dtype: object"
            ]
          },
          "metadata": {},
          "execution_count": 17
        }
      ]
    }
  ]
}